{
 "cells": [
  {
   "cell_type": "code",
   "execution_count": 1,
   "metadata": {},
   "outputs": [],
   "source": [
    "from datetime import datetime, timedelta, date\n",
    "import pandas"
   ]
  },
  {
   "cell_type": "code",
   "execution_count": null,
   "metadata": {},
   "outputs": [],
   "source": []
  },
  {
   "cell_type": "code",
   "execution_count": 2,
   "metadata": {},
   "outputs": [],
   "source": [
    "def get_dates(start, end, date_format=None):\n",
    "    \"\"\"\n",
    "    date_format: \"%d/%m/%Y\", \"%d.%m.%Y\", \"%Y-%m-%d\", \"%Y_%m_%d\"\n",
    "    \"\"\"\n",
    "    sdate = np.datetime64(start)\n",
    "    edate = np.datetime64(end)\n",
    "    delta = edate - sdate\n",
    "    \n",
    "    if date_format:\n",
    "        dates = [pd.to_datetime(sdate + i).strftime(date_format) for i in range(delta.astype(int) + 1)]\n",
    "    else:\n",
    "        dates = [pd.to_datetime(sdate + i) for i in range(delta.astype(int) + 1)]\n",
    "    \n",
    "    return dates"
   ]
  },
  {
   "cell_type": "code",
   "execution_count": null,
   "metadata": {},
   "outputs": [],
   "source": []
  }
 ],
 "metadata": {
  "kernelspec": {
   "display_name": "venv",
   "language": "python",
   "name": "venv"
  },
  "language_info": {
   "codemirror_mode": {
    "name": "ipython",
    "version": 3
   },
   "file_extension": ".py",
   "mimetype": "text/x-python",
   "name": "python",
   "nbconvert_exporter": "python",
   "pygments_lexer": "ipython3",
   "version": "3.9.7"
  }
 },
 "nbformat": 4,
 "nbformat_minor": 4
}
