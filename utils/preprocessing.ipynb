{
 "cells": [
  {
   "cell_type": "markdown",
   "metadata": {},
   "source": [
    "### Создание характеристики каждого диалога"
   ]
  },
  {
   "cell_type": "code",
   "execution_count": null,
   "metadata": {},
   "outputs": [],
   "source": []
  },
  {
   "cell_type": "code",
   "execution_count": null,
   "metadata": {},
   "outputs": [],
   "source": [
    "def research(df,features,cols_to_add):\n",
    "    \n",
    "    rows = []\n",
    "    \n",
    "    for chat_id, chat in tqdm(df.groupby(['chat_id'])):\n",
    "        if not chat.chat_id.shape[0] > 0:\n",
    "            continue\n",
    "            \n",
    "        rows.append([*[chat[name].iloc[0] for name in cols_to_add],\n",
    "                     *[func(chat) for func in features]])\n",
    "    \n",
    "    report = pd.DataFrame(rows,columns=[*cols_to_add, *[func.__name__ for func in features]])\n",
    "    return report"
   ]
  },
  {
   "cell_type": "code",
   "execution_count": null,
   "metadata": {},
   "outputs": [],
   "source": [
    "def add_chars(dialogs, report):\n",
    "    add = report[['chat_id',*list(set(report.columns) - set(dialogs.columns))]]\n",
    "    dialogs = pd.merge(dialogs,add, on='chat_id')\n",
    "    \n",
    "    return dialogs"
   ]
  },
  {
   "cell_type": "code",
   "execution_count": null,
   "metadata": {},
   "outputs": [],
   "source": [
    "cols_to_add = ['date', 'chat_id', 'participants', 'bot_contribution','mes_count','reason_of_failure',  \n",
    "               'theme','department', 'business', 'rate']\n",
    "funcs = [participants,inform, final, questioner_name, answerer_name, branch, reason_of_dislike, buttons_usage]\n",
    "report = research(dialogs, funcs, cols_to_add).sort_values('date')"
   ]
  }
 ],
 "metadata": {
  "kernelspec": {
   "display_name": "venv",
   "language": "python",
   "name": "venv"
  },
  "language_info": {
   "codemirror_mode": {
    "name": "ipython",
    "version": 3
   },
   "file_extension": ".py",
   "mimetype": "text/x-python",
   "name": "python",
   "nbconvert_exporter": "python",
   "pygments_lexer": "ipython3",
   "version": "3.7.3"
  }
 },
 "nbformat": 4,
 "nbformat_minor": 4
}
