{
 "cells": [
  {
   "cell_type": "code",
   "execution_count": 9,
   "metadata": {},
   "outputs": [],
   "source": [
    "import pandas as pd\n",
    "import numpy as np\n",
    "import random"
   ]
  },
  {
   "cell_type": "markdown",
   "metadata": {},
   "source": [
    "## Допустим\n",
    "###  У нас есть некий продукт с чатом поддержки. Клиенты пишут в него, чтобы найти решение возникающим проблемам. На вопросы клиентов отвечают операторы. Чтобы облегчить нагрузку на операторов мы подключили чатбота, который в состоянии ответить на самые распростараненные вопросы."
   ]
  },
  {
   "cell_type": "markdown",
   "metadata": {},
   "source": [
    "### Таким образом чат поддержки генерирует поток данных, которые сохраняются в нашей базе данных в виде таблиц. Пусть одна из них имеет следующий формат:\n",
    "\n",
    "- id - уникальный идентификатор диалога\n",
    "- date - дата поступления диалога (в формате dd-mm-yyyy)\n",
    "- participants - участники диалога ('CUST_BOT', 'CUST_BOT_OPER', 'CUST_OPER')\n",
    "- theme - тема диалога; последний вопрос заданный клиентом ('THEME1', 'THEME2', 'THEME3')\n",
    "- rate - оценка диалога клиентом (по 5-ти бальной шкале)\n",
    "- duration - длительность диалога (в секундах)\n",
    "- oper_wait_time - время, которое потребовалось оператору, чтобы подключится к клиенту; время ожидания оператора (в секундах)\n",
    "- all_mes_count - общее количество сообщений в диалоге (в штуках)\n",
    "- cust_mes_count - количество сообщений клиента в диалоге (в штуках)\n",
    "- bot_mes_count - количество сообщений бота в диалоге (в штуках)\n",
    "- oper_mes_count - количество сообщений оператора в диалоге (в штуках)\n",
    "- oper_name - имя оператора, включившегося в разговор (None, 'Игорь', 'Полнина', 'Гоша','Николай', 'Владимир', 'Маша', 'Света', 'Андрей')"
   ]
  },
  {
   "cell_type": "markdown",
   "metadata": {},
   "source": [
    "## Генерация синтетичестких данных для презентации"
   ]
  },
  {
   "cell_type": "markdown",
   "metadata": {},
   "source": [
    "### Выберем размер нашей выборки"
   ]
  },
  {
   "cell_type": "code",
   "execution_count": 10,
   "metadata": {},
   "outputs": [],
   "source": [
    "sample_size = 30000"
   ]
  },
  {
   "cell_type": "markdown",
   "metadata": {},
   "source": [
    "### Теперь сгенерируем датасет в указанном формате, обладающий следующими особенностями:"
   ]
  },
  {
   "cell_type": "markdown",
   "metadata": {},
   "source": [
    "###### id:\n",
    " - значения id представлены в виде десятизначной строки чисел"
   ]
  },
  {
   "cell_type": "code",
   "execution_count": 11,
   "metadata": {},
   "outputs": [],
   "source": [
    "ids = ['{:010}'.format(i) for i in range(sample_size)]"
   ]
  },
  {
   "cell_type": "markdown",
   "metadata": {},
   "source": [
    "###### date: \n",
    " - Пусть количество диалогов в выходные дни будет в целом на 25% больше чем в будние дни "
   ]
  },
  {
   "cell_type": "code",
   "execution_count": 4,
   "metadata": {},
   "outputs": [],
   "source": [
    "unique_dates = pd.date_range(start='2021-07-01',end='2021-07-30')\n",
    "weekends = [day for day in unique_dates if day.weekday() in [5,6]]\n",
    "weekdays = [day for day in unique_dates if day.weekday() not in [5,6]]\n",
    "\n",
    "dates = sorted([*np.random.choice(weekends, int(sample_size*0.625), replace=True), \n",
    "                *np.random.choice(weekdays, int(sample_size*0.375), replace=True)])"
   ]
  },
  {
   "cell_type": "code",
   "execution_count": 5,
   "metadata": {},
   "outputs": [
    {
     "name": "stdout",
     "output_type": "stream",
     "text": [
      "0.625 0.375 0.25\n"
     ]
    }
   ],
   "source": [
    "summary = len([i for i in dates if i in weekends]) + len([i for i in dates if i in weekdays])\n",
    "\n",
    "wends = len([i for i in dates if i in weekends])\n",
    "wdays = len([i for i in dates if i in weekdays])\n",
    "\n",
    "print(wends/summary, wdays/summary, wends/summary - wdays/summary)"
   ]
  },
  {
   "cell_type": "code",
   "execution_count": 8,
   "metadata": {},
   "outputs": [
    {
     "data": {
      "text/plain": [
       "687.5"
      ]
     },
     "execution_count": 8,
     "metadata": {},
     "output_type": "execute_result"
    }
   ],
   "source": [
    "550+550*0.25"
   ]
  },
  {
   "cell_type": "code",
   "execution_count": 6,
   "metadata": {},
   "outputs": [
    {
     "data": {
      "text/html": [
       "<div>\n",
       "<style scoped>\n",
       "    .dataframe tbody tr th:only-of-type {\n",
       "        vertical-align: middle;\n",
       "    }\n",
       "\n",
       "    .dataframe tbody tr th {\n",
       "        vertical-align: top;\n",
       "    }\n",
       "\n",
       "    .dataframe thead th {\n",
       "        text-align: right;\n",
       "    }\n",
       "</style>\n",
       "<table border=\"1\" class=\"dataframe\">\n",
       "  <thead>\n",
       "    <tr style=\"text-align: right;\">\n",
       "      <th></th>\n",
       "      <th>index</th>\n",
       "      <th>0</th>\n",
       "    </tr>\n",
       "  </thead>\n",
       "  <tbody>\n",
       "    <tr>\n",
       "      <th>22</th>\n",
       "      <td>2021-07-01</td>\n",
       "      <td>499</td>\n",
       "    </tr>\n",
       "    <tr>\n",
       "      <th>9</th>\n",
       "      <td>2021-07-02</td>\n",
       "      <td>550</td>\n",
       "    </tr>\n",
       "    <tr>\n",
       "      <th>2</th>\n",
       "      <td>2021-07-03</td>\n",
       "      <td>2352</td>\n",
       "    </tr>\n",
       "    <tr>\n",
       "      <th>3</th>\n",
       "      <td>2021-07-04</td>\n",
       "      <td>2330</td>\n",
       "    </tr>\n",
       "    <tr>\n",
       "      <th>24</th>\n",
       "      <td>2021-07-05</td>\n",
       "      <td>494</td>\n",
       "    </tr>\n",
       "    <tr>\n",
       "      <th>10</th>\n",
       "      <td>2021-07-06</td>\n",
       "      <td>541</td>\n",
       "    </tr>\n",
       "    <tr>\n",
       "      <th>15</th>\n",
       "      <td>2021-07-07</td>\n",
       "      <td>525</td>\n",
       "    </tr>\n",
       "    <tr>\n",
       "      <th>27</th>\n",
       "      <td>2021-07-08</td>\n",
       "      <td>473</td>\n",
       "    </tr>\n",
       "    <tr>\n",
       "      <th>18</th>\n",
       "      <td>2021-07-09</td>\n",
       "      <td>518</td>\n",
       "    </tr>\n",
       "    <tr>\n",
       "      <th>0</th>\n",
       "      <td>2021-07-10</td>\n",
       "      <td>2474</td>\n",
       "    </tr>\n",
       "    <tr>\n",
       "      <th>5</th>\n",
       "      <td>2021-07-11</td>\n",
       "      <td>2301</td>\n",
       "    </tr>\n",
       "    <tr>\n",
       "      <th>23</th>\n",
       "      <td>2021-07-12</td>\n",
       "      <td>498</td>\n",
       "    </tr>\n",
       "    <tr>\n",
       "      <th>29</th>\n",
       "      <td>2021-07-13</td>\n",
       "      <td>465</td>\n",
       "    </tr>\n",
       "    <tr>\n",
       "      <th>28</th>\n",
       "      <td>2021-07-14</td>\n",
       "      <td>467</td>\n",
       "    </tr>\n",
       "    <tr>\n",
       "      <th>16</th>\n",
       "      <td>2021-07-15</td>\n",
       "      <td>522</td>\n",
       "    </tr>\n",
       "    <tr>\n",
       "      <th>25</th>\n",
       "      <td>2021-07-16</td>\n",
       "      <td>494</td>\n",
       "    </tr>\n",
       "    <tr>\n",
       "      <th>6</th>\n",
       "      <td>2021-07-17</td>\n",
       "      <td>2281</td>\n",
       "    </tr>\n",
       "    <tr>\n",
       "      <th>7</th>\n",
       "      <td>2021-07-18</td>\n",
       "      <td>2265</td>\n",
       "    </tr>\n",
       "    <tr>\n",
       "      <th>26</th>\n",
       "      <td>2021-07-19</td>\n",
       "      <td>489</td>\n",
       "    </tr>\n",
       "    <tr>\n",
       "      <th>12</th>\n",
       "      <td>2021-07-20</td>\n",
       "      <td>530</td>\n",
       "    </tr>\n",
       "    <tr>\n",
       "      <th>13</th>\n",
       "      <td>2021-07-21</td>\n",
       "      <td>529</td>\n",
       "    </tr>\n",
       "    <tr>\n",
       "      <th>8</th>\n",
       "      <td>2021-07-22</td>\n",
       "      <td>554</td>\n",
       "    </tr>\n",
       "    <tr>\n",
       "      <th>20</th>\n",
       "      <td>2021-07-23</td>\n",
       "      <td>502</td>\n",
       "    </tr>\n",
       "    <tr>\n",
       "      <th>4</th>\n",
       "      <td>2021-07-24</td>\n",
       "      <td>2313</td>\n",
       "    </tr>\n",
       "    <tr>\n",
       "      <th>1</th>\n",
       "      <td>2021-07-25</td>\n",
       "      <td>2434</td>\n",
       "    </tr>\n",
       "    <tr>\n",
       "      <th>14</th>\n",
       "      <td>2021-07-26</td>\n",
       "      <td>525</td>\n",
       "    </tr>\n",
       "    <tr>\n",
       "      <th>19</th>\n",
       "      <td>2021-07-27</td>\n",
       "      <td>513</td>\n",
       "    </tr>\n",
       "    <tr>\n",
       "      <th>17</th>\n",
       "      <td>2021-07-28</td>\n",
       "      <td>520</td>\n",
       "    </tr>\n",
       "    <tr>\n",
       "      <th>21</th>\n",
       "      <td>2021-07-29</td>\n",
       "      <td>502</td>\n",
       "    </tr>\n",
       "    <tr>\n",
       "      <th>11</th>\n",
       "      <td>2021-07-30</td>\n",
       "      <td>540</td>\n",
       "    </tr>\n",
       "  </tbody>\n",
       "</table>\n",
       "</div>"
      ],
      "text/plain": [
       "        index     0\n",
       "22 2021-07-01   499\n",
       "9  2021-07-02   550\n",
       "2  2021-07-03  2352\n",
       "3  2021-07-04  2330\n",
       "24 2021-07-05   494\n",
       "10 2021-07-06   541\n",
       "15 2021-07-07   525\n",
       "27 2021-07-08   473\n",
       "18 2021-07-09   518\n",
       "0  2021-07-10  2474\n",
       "5  2021-07-11  2301\n",
       "23 2021-07-12   498\n",
       "29 2021-07-13   465\n",
       "28 2021-07-14   467\n",
       "16 2021-07-15   522\n",
       "25 2021-07-16   494\n",
       "6  2021-07-17  2281\n",
       "7  2021-07-18  2265\n",
       "26 2021-07-19   489\n",
       "12 2021-07-20   530\n",
       "13 2021-07-21   529\n",
       "8  2021-07-22   554\n",
       "20 2021-07-23   502\n",
       "4  2021-07-24  2313\n",
       "1  2021-07-25  2434\n",
       "14 2021-07-26   525\n",
       "19 2021-07-27   513\n",
       "17 2021-07-28   520\n",
       "21 2021-07-29   502\n",
       "11 2021-07-30   540"
      ]
     },
     "execution_count": 6,
     "metadata": {},
     "output_type": "execute_result"
    }
   ],
   "source": [
    "pd.Series(dates).value_counts().reset_index().sort_values('index')"
   ]
  },
  {
   "cell_type": "code",
   "execution_count": 28,
   "metadata": {},
   "outputs": [
    {
     "data": {
      "text/plain": [
       "2021-07-14    549\n",
       "2021-07-27    544\n",
       "2021-07-30    540\n",
       "2021-07-26    527\n",
       "2021-07-06    523\n",
       "2021-07-09    521\n",
       "2021-07-07    520\n",
       "2021-07-28    516\n",
       "2021-07-20    514\n",
       "2021-07-21    513\n",
       "2021-07-08    510\n",
       "2021-07-13    509\n",
       "2021-07-15    509\n",
       "2021-07-22    504\n",
       "2021-07-16    504\n",
       "2021-07-02    504\n",
       "2021-07-12    503\n",
       "2021-07-29    500\n",
       "2021-07-19    495\n",
       "2021-07-23    486\n",
       "2021-07-01    483\n",
       "2021-07-05    476\n",
       "dtype: int64"
      ]
     },
     "execution_count": 28,
     "metadata": {},
     "output_type": "execute_result"
    }
   ],
   "source": [
    "pd.Series([i for i in dates if i in weekdays]).value_counts()"
   ]
  },
  {
   "cell_type": "markdown",
   "metadata": {},
   "source": [
    "###### participants: \n",
    "- Пусть значения колонки participants распределяются в следующем соотношении: CUST_BOT - 60%, CUST_BOT_OPER - 30%, CUST_OPER - 10%"
   ]
  },
  {
   "cell_type": "code",
   "execution_count": 5,
   "metadata": {},
   "outputs": [],
   "source": [
    "participants = [\n",
    "    *['CUST_BOT']*int(sample_size*0.6), \n",
    "    *['CUST_BOT_OPER']*int(sample_size*0.3), \n",
    "    *['CUST_OPER']*int(sample_size*0.1)\n",
    "]\n",
    "random.shuffle(participants)"
   ]
  },
  {
   "cell_type": "markdown",
   "metadata": {},
   "source": [
    "###### oper_name\n",
    " - Бот закрывает 60% диалогов (У 60% диалогов oper_name == None)\n",
    " - Диалоги распределены между операторами случайным образом"
   ]
  },
  {
   "cell_type": "code",
   "execution_count": 6,
   "metadata": {},
   "outputs": [],
   "source": [
    "unique_oper_names = ['Игорь', 'Полина', 'Гоша','Николай', 'Владимир', 'Маша', 'Света', 'Андрей']\n",
    "oper_names = [None if part == 'CUST_BOT' else np.random.choice(unique_oper_names, 1, replace=True)[0] for part in participants]"
   ]
  },
  {
   "cell_type": "markdown",
   "metadata": {},
   "source": [
    "###### theme \n",
    " - Тематики распределены между диалогами случайным образом"
   ]
  },
  {
   "cell_type": "code",
   "execution_count": 7,
   "metadata": {},
   "outputs": [],
   "source": [
    "unique_themes = ['THEME1', 'THEME2', 'THEME3']\n",
    "themes = list(np.random.choice(unique_themes, sample_size, replace=True))"
   ]
  },
  {
   "cell_type": "markdown",
   "metadata": {},
   "source": [
    "###### rates: \n",
    "- Пусть только 6% от всех диалогов были оценены клиентами\n",
    "- Пусть клиенты оценивают диалоги в следующей пропорции: '1' - 30%, '2' - 1%, '3' - 2%, '4' - 2%, '5' - 65% \n",
    "- Пусть диалоги с тематикой THEME3 оцениваются 1-ей на 20% чаще (и 5-кой на 20% реже)\n",
    "- Пусть диалоги в которых участвовал оператор Андрей оцениваются 1-ей на 10% чаще (и 5-кой на 10% реже)"
   ]
  },
  {
   "cell_type": "code",
   "execution_count": 8,
   "metadata": {},
   "outputs": [],
   "source": [
    "rates = []\n",
    "rate_probability = 0.06\n",
    "probability_dict = {None: 1-rate_probability, \n",
    "                    '1': rate_probability*0.3, \n",
    "                    '2': rate_probability*0.01, \n",
    "                    '3': rate_probability*0.02, \n",
    "                    '4': rate_probability*0.02, \n",
    "                    '5': rate_probability*0.65}\n",
    "\n",
    "for theme, name in zip(themes, oper_names):\n",
    "    d = probability_dict.copy()\n",
    "    \n",
    "    if theme == 'THEME3':\n",
    "        d['1'] += rate_probability*0.2\n",
    "        d['5'] -= rate_probability*0.2\n",
    "    if name == 'Андрей':\n",
    "        d['1'] += rate_probability*0.1\n",
    "        d['5'] -= rate_probability*0.1\n",
    "    \n",
    "    rates.append(np.random.choice(list(d.keys()), 1, p=list(d.values()))[0])\n"
   ]
  },
  {
   "cell_type": "markdown",
   "metadata": {},
   "source": [
    "###### oper_wait_time:\n",
    " - Пусть минимальное время реакции оператора - 3 секунды, максимальная - 10 минут\n",
    " - Оператор Андрей включается в диалог на 5 минут позже чем остальные операторы"
   ]
  },
  {
   "cell_type": "code",
   "execution_count": 9,
   "metadata": {},
   "outputs": [],
   "source": [
    "min_owt = 3\n",
    "max_owt = 10*60\n",
    "\n",
    "oper_wait_times = []\n",
    "\n",
    "for part, oper_name in zip(participants, oper_names):\n",
    "    if part in ['CUST_BOT_OPER', 'CUST_OPER']:\n",
    "        if oper_name == 'Андрей':\n",
    "            oper_wait_times.append(np.random.choice(range(min_owt+5*60+1, max_owt+5*60+1), 1)[0])\n",
    "        else:\n",
    "            oper_wait_times.append(np.random.choice(range(min_owt, max_owt), 1)[0])\n",
    "    else:\n",
    "        oper_wait_times.append(0)"
   ]
  },
  {
   "cell_type": "markdown",
   "metadata": {},
   "source": [
    "###### duration:\n",
    "- Длительность диалога не может быть меньше времени реакции оператора\n",
    "- Пусть длительность диалога без учета времени ожидания оператора лежит в диапазоне от 10 секунд до 15 минут"
   ]
  },
  {
   "cell_type": "code",
   "execution_count": 10,
   "metadata": {},
   "outputs": [],
   "source": [
    "min_addit_dur = 10\n",
    "max_addit_dur = 15*60\n",
    "\n",
    "durations = []\n",
    "\n",
    "for wait_time in oper_wait_times:\n",
    "    durations.append(np.random.choice(range(wait_time + min_addit_dur+1, wait_time + max_addit_dur+1), 1)[0])"
   ]
  },
  {
   "cell_type": "markdown",
   "metadata": {},
   "source": [
    "###### cust_mes_count:\n",
    " - Пусть минимальное количество сообщений клиента - 1, максимальное - 25\n",
    " - Если в диалоге участвовал и бот и оператор (participants == 'CUST_BOT_OPER'), то количество сообщений клиента должно быть больше 1"
   ]
  },
  {
   "cell_type": "code",
   "execution_count": 11,
   "metadata": {},
   "outputs": [],
   "source": [
    "min_cmc = 1\n",
    "max_cmc = 25\n",
    "\n",
    "cust_mes_counts = []\n",
    "\n",
    "for part in participants:\n",
    "    if part == 'CUST_BOT_OPER':\n",
    "        if min_cmc <= 1:\n",
    "            cust_mes_counts.append(np.random.choice(range(2, max_cmc), 1)[0])\n",
    "    else:\n",
    "        cust_mes_counts.append(np.random.choice(range(min_cmc, max_cmc), 1)[0])"
   ]
  },
  {
   "cell_type": "markdown",
   "metadata": {},
   "source": [
    "###### bot_mes_count:\n",
    " - Пусть минимальное количество сообщений бота - 1\n",
    " - Если бот не участвовал в диалоге (participants == 'CUST_OPER'), то количество сообщений бота равно нулю (bot_mes_count == 0)\n",
    " - Если в диалоге участвовал только бот и клиент (participants == 'CUST_BOT'), то количество сообщений бота равно количеству сообщений клиента\n",
    " - Если в диалоге участвовал клиент, бот и оператор, (participants == 'CUST_BOT_OPER'), то количесво сообщений бота строго меньше количества сообщений клиента\n",
    " "
   ]
  },
  {
   "cell_type": "code",
   "execution_count": 12,
   "metadata": {},
   "outputs": [],
   "source": [
    "min_bmc = 1\n",
    "bot_mes_counts = []\n",
    "\n",
    "for cmc, part in zip(cust_mes_counts, participants):\n",
    "    if part == 'CUST_OPER':\n",
    "        bot_mes_counts.append(0)\n",
    "    elif part == 'CUST_BOT':\n",
    "        bot_mes_counts.append(cmc)\n",
    "    elif part == 'CUST_BOT_OPER':\n",
    "        bot_mes_counts.append(np.random.choice(range(min_bmc, cmc), 1)[0])\n"
   ]
  },
  {
   "cell_type": "markdown",
   "metadata": {},
   "source": [
    "###### oper_mes_count:\n",
    " - Пусть минимальное количество сообщений клиента - 1, максимальное - 35\n",
    " - Если оператор не участвовал в диалоге (participants == 'CUST_BOT'), то количество сообщений оператора равно нулю (oper_mes_count == 0)"
   ]
  },
  {
   "cell_type": "code",
   "execution_count": 13,
   "metadata": {},
   "outputs": [],
   "source": [
    "min_omc = 1\n",
    "max_omc = 35\n",
    "\n",
    "oper_mes_counts = []\n",
    "\n",
    "for part in participants:\n",
    "    if part == 'CUST_BOT':\n",
    "        oper_mes_counts.append(0)\n",
    "    else:\n",
    "        oper_mes_counts.append(np.random.choice(range(min_omc, max_omc), 1)[0])"
   ]
  },
  {
   "cell_type": "markdown",
   "metadata": {},
   "source": [
    "###### all_mes_count:\n",
    " - Общее количество сообщений в диалоге это сумма сообщений клиента, бота и оператора"
   ]
  },
  {
   "cell_type": "code",
   "execution_count": 14,
   "metadata": {},
   "outputs": [],
   "source": [
    "all_mes_counts = [sum(x) for x in zip(cust_mes_counts, bot_mes_counts, oper_mes_counts)]"
   ]
  },
  {
   "cell_type": "markdown",
   "metadata": {},
   "source": [
    "### Формирует и сохраняем наш датасет"
   ]
  },
  {
   "cell_type": "code",
   "execution_count": 15,
   "metadata": {},
   "outputs": [
    {
     "data": {
      "text/html": [
       "<div>\n",
       "<style scoped>\n",
       "    .dataframe tbody tr th:only-of-type {\n",
       "        vertical-align: middle;\n",
       "    }\n",
       "\n",
       "    .dataframe tbody tr th {\n",
       "        vertical-align: top;\n",
       "    }\n",
       "\n",
       "    .dataframe thead th {\n",
       "        text-align: right;\n",
       "    }\n",
       "</style>\n",
       "<table border=\"1\" class=\"dataframe\">\n",
       "  <thead>\n",
       "    <tr style=\"text-align: right;\">\n",
       "      <th></th>\n",
       "      <th>date</th>\n",
       "      <th>id</th>\n",
       "      <th>participants</th>\n",
       "      <th>theme</th>\n",
       "      <th>rate</th>\n",
       "      <th>oper_name</th>\n",
       "      <th>duration</th>\n",
       "      <th>oper_wait_time</th>\n",
       "      <th>all_mes_count</th>\n",
       "      <th>cust_mes_count</th>\n",
       "      <th>bot_mes_count</th>\n",
       "      <th>oper_mes_count</th>\n",
       "    </tr>\n",
       "  </thead>\n",
       "  <tbody>\n",
       "    <tr>\n",
       "      <th>0</th>\n",
       "      <td>2021-07-01</td>\n",
       "      <td>0000000000</td>\n",
       "      <td>CUST_BOT</td>\n",
       "      <td>THEME2</td>\n",
       "      <td>None</td>\n",
       "      <td>None</td>\n",
       "      <td>257</td>\n",
       "      <td>0</td>\n",
       "      <td>12</td>\n",
       "      <td>6</td>\n",
       "      <td>6</td>\n",
       "      <td>0</td>\n",
       "    </tr>\n",
       "    <tr>\n",
       "      <th>1</th>\n",
       "      <td>2021-07-01</td>\n",
       "      <td>0000000001</td>\n",
       "      <td>CUST_BOT_OPER</td>\n",
       "      <td>THEME3</td>\n",
       "      <td>None</td>\n",
       "      <td>Полина</td>\n",
       "      <td>414</td>\n",
       "      <td>337</td>\n",
       "      <td>46</td>\n",
       "      <td>9</td>\n",
       "      <td>5</td>\n",
       "      <td>32</td>\n",
       "    </tr>\n",
       "    <tr>\n",
       "      <th>2</th>\n",
       "      <td>2021-07-01</td>\n",
       "      <td>0000000002</td>\n",
       "      <td>CUST_BOT_OPER</td>\n",
       "      <td>THEME2</td>\n",
       "      <td>None</td>\n",
       "      <td>Андрей</td>\n",
       "      <td>1393</td>\n",
       "      <td>817</td>\n",
       "      <td>55</td>\n",
       "      <td>19</td>\n",
       "      <td>4</td>\n",
       "      <td>32</td>\n",
       "    </tr>\n",
       "    <tr>\n",
       "      <th>3</th>\n",
       "      <td>2021-07-01</td>\n",
       "      <td>0000000003</td>\n",
       "      <td>CUST_BOT</td>\n",
       "      <td>THEME2</td>\n",
       "      <td>None</td>\n",
       "      <td>None</td>\n",
       "      <td>726</td>\n",
       "      <td>0</td>\n",
       "      <td>16</td>\n",
       "      <td>8</td>\n",
       "      <td>8</td>\n",
       "      <td>0</td>\n",
       "    </tr>\n",
       "    <tr>\n",
       "      <th>4</th>\n",
       "      <td>2021-07-01</td>\n",
       "      <td>0000000004</td>\n",
       "      <td>CUST_BOT</td>\n",
       "      <td>THEME1</td>\n",
       "      <td>None</td>\n",
       "      <td>None</td>\n",
       "      <td>620</td>\n",
       "      <td>0</td>\n",
       "      <td>2</td>\n",
       "      <td>1</td>\n",
       "      <td>1</td>\n",
       "      <td>0</td>\n",
       "    </tr>\n",
       "  </tbody>\n",
       "</table>\n",
       "</div>"
      ],
      "text/plain": [
       "        date          id   participants   theme  rate oper_name  duration  \\\n",
       "0 2021-07-01  0000000000       CUST_BOT  THEME2  None      None       257   \n",
       "1 2021-07-01  0000000001  CUST_BOT_OPER  THEME3  None    Полина       414   \n",
       "2 2021-07-01  0000000002  CUST_BOT_OPER  THEME2  None    Андрей      1393   \n",
       "3 2021-07-01  0000000003       CUST_BOT  THEME2  None      None       726   \n",
       "4 2021-07-01  0000000004       CUST_BOT  THEME1  None      None       620   \n",
       "\n",
       "   oper_wait_time  all_mes_count  cust_mes_count  bot_mes_count  \\\n",
       "0               0             12               6              6   \n",
       "1             337             46               9              5   \n",
       "2             817             55              19              4   \n",
       "3               0             16               8              8   \n",
       "4               0              2               1              1   \n",
       "\n",
       "   oper_mes_count  \n",
       "0               0  \n",
       "1              32  \n",
       "2              32  \n",
       "3               0  \n",
       "4               0  "
      ]
     },
     "execution_count": 15,
     "metadata": {},
     "output_type": "execute_result"
    }
   ],
   "source": [
    "df = pd.DataFrame({\n",
    "    'date': dates,\n",
    "    'id': ids,\n",
    "    'participants': participants, \n",
    "    'theme': themes,\n",
    "    'rate': rates, \n",
    "    'oper_name': oper_names,\n",
    "    'duration': durations, \n",
    "    'oper_wait_time': oper_wait_times,\n",
    "    'all_mes_count': all_mes_counts, \n",
    "    'cust_mes_count': cust_mes_counts, \n",
    "    'bot_mes_count': bot_mes_counts, \n",
    "    'oper_mes_count': oper_mes_counts,\n",
    "    \n",
    "})\n",
    "\n",
    "df.head()"
   ]
  },
  {
   "cell_type": "code",
   "execution_count": 16,
   "metadata": {},
   "outputs": [],
   "source": [
    "df = df.sort_values('date')"
   ]
  },
  {
   "cell_type": "code",
   "execution_count": 17,
   "metadata": {},
   "outputs": [],
   "source": [
    "df.to_csv(\"../data/input/example.csv\", index=False)"
   ]
  },
  {
   "cell_type": "markdown",
   "metadata": {},
   "source": [
    "### В дальнейшем мы сможем выделить все эти особенности с помощью графиков графиков. "
   ]
  },
  {
   "cell_type": "code",
   "execution_count": null,
   "metadata": {},
   "outputs": [],
   "source": []
  }
 ],
 "metadata": {
  "kernelspec": {
   "display_name": "venv",
   "language": "python",
   "name": "venv"
  },
  "language_info": {
   "codemirror_mode": {
    "name": "ipython",
    "version": 3
   },
   "file_extension": ".py",
   "mimetype": "text/x-python",
   "name": "python",
   "nbconvert_exporter": "python",
   "pygments_lexer": "ipython3",
   "version": "3.7.3"
  }
 },
 "nbformat": 4,
 "nbformat_minor": 4
}
