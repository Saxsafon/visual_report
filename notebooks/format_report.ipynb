{
 "cells": [
  {
   "cell_type": "code",
   "execution_count": 1,
   "metadata": {},
   "outputs": [],
   "source": [
    "import pandas as pd\n",
    "import numpy as np\n",
    "import shutil"
   ]
  },
  {
   "cell_type": "code",
   "execution_count": 13,
   "metadata": {},
   "outputs": [
    {
     "data": {
      "text/html": [
       "<style>.container { width:100% !important; }</style>"
      ],
      "text/plain": [
       "<IPython.core.display.HTML object>"
      ]
     },
     "metadata": {},
     "output_type": "display_data"
    }
   ],
   "source": [
    "from IPython.core.display import display, HTML\n",
    "display(HTML(\"<style>.container { width:100% !important; }</style>\"))"
   ]
  },
  {
   "cell_type": "code",
   "execution_count": 2,
   "metadata": {},
   "outputs": [],
   "source": [
    "%run ../utils/sup_functions.ipynb\n",
    "%run ../utils/excel_tools.ipynb"
   ]
  },
  {
   "cell_type": "markdown",
   "metadata": {},
   "source": [
    "# Вступление\n",
    "\n",
    "**Мы свободны в выборе формы нашей отчетности**\n",
    "\n",
    "Одна из самых распространенных форм - это агрегирующая или сводная таблица. Как правило они предоставляются конечному пользователю в формате excel-файлов.\n",
    "\n",
    "В python реализваны пакеты, с помощью которых мы можем запустить процесс автоматического формирования таких отчетов."
   ]
  },
  {
   "cell_type": "markdown",
   "metadata": {},
   "source": [
    "# Постановка задачи\n",
    "\n",
    "Допустим у нас есть таблица агрегированных данных по диалогам за опрделенный период. Мы хотим представить эту таблицу нашим клиентам в более удобном формате. А именно:\n",
    "\n",
    "- Перевести названия колонок на русский язык\n",
    "- Сделать шапку таблицы многоуровневой, и за счет этого сократить названия некоторых колонок без потери смысла\n",
    "- Автоматически масштабировать ширину колонок, чтобы клиентам не приходилось подбирать ее самостоятельно\n",
    "- Добавить группировки на некоторые колонки (они работают как выпадающие списки), чтобы таким образом сократить ее размер без потери содержания\n",
    "- Добавить фильтр на последнюю строку многоуровневой шапки\n",
    "\n",
    "\n",
    "- Выделить плохо-оцененные диалоги (rate == 1) красным цветом\n",
    "- Добавить горизонтальные полосы, разделяющие диалоги за разные даты\n",
    "- Выделить жирным диалоги оператора, у которого больше всего положительных оценок (5-ок)\n"
   ]
  },
  {
   "cell_type": "markdown",
   "metadata": {},
   "source": [
    "# Создание отчета"
   ]
  },
  {
   "cell_type": "markdown",
   "metadata": {
    "heading_collapsed": true
   },
   "source": [
    "### Загрузка данных"
   ]
  },
  {
   "cell_type": "code",
   "execution_count": 3,
   "metadata": {
    "hidden": true
   },
   "outputs": [
    {
     "data": {
      "text/html": [
       "<div>\n",
       "<style scoped>\n",
       "    .dataframe tbody tr th:only-of-type {\n",
       "        vertical-align: middle;\n",
       "    }\n",
       "\n",
       "    .dataframe tbody tr th {\n",
       "        vertical-align: top;\n",
       "    }\n",
       "\n",
       "    .dataframe thead th {\n",
       "        text-align: right;\n",
       "    }\n",
       "</style>\n",
       "<table border=\"1\" class=\"dataframe\">\n",
       "  <thead>\n",
       "    <tr style=\"text-align: right;\">\n",
       "      <th></th>\n",
       "      <th>date</th>\n",
       "      <th>id</th>\n",
       "      <th>participants</th>\n",
       "      <th>theme</th>\n",
       "      <th>rate</th>\n",
       "      <th>oper_name</th>\n",
       "      <th>duration</th>\n",
       "      <th>oper_wait_time</th>\n",
       "      <th>all_mes_count</th>\n",
       "      <th>cust_mes_count</th>\n",
       "      <th>bot_mes_count</th>\n",
       "      <th>oper_mes_count</th>\n",
       "    </tr>\n",
       "  </thead>\n",
       "  <tbody>\n",
       "    <tr>\n",
       "      <th>0</th>\n",
       "      <td>2021-07-01</td>\n",
       "      <td>0</td>\n",
       "      <td>CUST_BOT</td>\n",
       "      <td>THEME2</td>\n",
       "      <td>NaN</td>\n",
       "      <td>NaN</td>\n",
       "      <td>257</td>\n",
       "      <td>0</td>\n",
       "      <td>12</td>\n",
       "      <td>6</td>\n",
       "      <td>6</td>\n",
       "      <td>0</td>\n",
       "    </tr>\n",
       "    <tr>\n",
       "      <th>1</th>\n",
       "      <td>2021-07-01</td>\n",
       "      <td>340</td>\n",
       "      <td>CUST_BOT</td>\n",
       "      <td>THEME3</td>\n",
       "      <td>NaN</td>\n",
       "      <td>NaN</td>\n",
       "      <td>763</td>\n",
       "      <td>0</td>\n",
       "      <td>42</td>\n",
       "      <td>21</td>\n",
       "      <td>21</td>\n",
       "      <td>0</td>\n",
       "    </tr>\n",
       "    <tr>\n",
       "      <th>2</th>\n",
       "      <td>2021-07-01</td>\n",
       "      <td>339</td>\n",
       "      <td>CUST_BOT_OPER</td>\n",
       "      <td>THEME1</td>\n",
       "      <td>NaN</td>\n",
       "      <td>Полина</td>\n",
       "      <td>928</td>\n",
       "      <td>505</td>\n",
       "      <td>32</td>\n",
       "      <td>12</td>\n",
       "      <td>1</td>\n",
       "      <td>19</td>\n",
       "    </tr>\n",
       "    <tr>\n",
       "      <th>3</th>\n",
       "      <td>2021-07-01</td>\n",
       "      <td>338</td>\n",
       "      <td>CUST_BOT</td>\n",
       "      <td>THEME1</td>\n",
       "      <td>NaN</td>\n",
       "      <td>NaN</td>\n",
       "      <td>142</td>\n",
       "      <td>0</td>\n",
       "      <td>22</td>\n",
       "      <td>11</td>\n",
       "      <td>11</td>\n",
       "      <td>0</td>\n",
       "    </tr>\n",
       "    <tr>\n",
       "      <th>4</th>\n",
       "      <td>2021-07-01</td>\n",
       "      <td>337</td>\n",
       "      <td>CUST_BOT</td>\n",
       "      <td>THEME2</td>\n",
       "      <td>NaN</td>\n",
       "      <td>NaN</td>\n",
       "      <td>816</td>\n",
       "      <td>0</td>\n",
       "      <td>8</td>\n",
       "      <td>4</td>\n",
       "      <td>4</td>\n",
       "      <td>0</td>\n",
       "    </tr>\n",
       "  </tbody>\n",
       "</table>\n",
       "</div>"
      ],
      "text/plain": [
       "         date   id   participants   theme  rate oper_name  duration  \\\n",
       "0  2021-07-01    0       CUST_BOT  THEME2   NaN       NaN       257   \n",
       "1  2021-07-01  340       CUST_BOT  THEME3   NaN       NaN       763   \n",
       "2  2021-07-01  339  CUST_BOT_OPER  THEME1   NaN    Полина       928   \n",
       "3  2021-07-01  338       CUST_BOT  THEME1   NaN       NaN       142   \n",
       "4  2021-07-01  337       CUST_BOT  THEME2   NaN       NaN       816   \n",
       "\n",
       "   oper_wait_time  all_mes_count  cust_mes_count  bot_mes_count  \\\n",
       "0               0             12               6              6   \n",
       "1               0             42              21             21   \n",
       "2             505             32              12              1   \n",
       "3               0             22              11             11   \n",
       "4               0              8               4              4   \n",
       "\n",
       "   oper_mes_count  \n",
       "0               0  \n",
       "1               0  \n",
       "2              19  \n",
       "3               0  \n",
       "4               0  "
      ]
     },
     "execution_count": 3,
     "metadata": {},
     "output_type": "execute_result"
    }
   ],
   "source": [
    "example = pd.read_csv('../data/input/example.csv')\n",
    "example.head()"
   ]
  },
  {
   "cell_type": "markdown",
   "metadata": {},
   "source": [
    "## Оформление шапки\n",
    "\n",
    "**Какой мы хотим видеть нашу шапку?**\n",
    "\n",
    "Многоуровневая структура дает нам ряд новых возможностей в плане организации отчета:\n",
    "\n",
    "1) Мы можем разделить колонки на явные смысловые блоки. И покрасить их в разные цвета\n",
    "\n",
    "2) Разделение на блоки позволяет давать колонкам короткие названия без потери смысла, ведь он будет исходить из ее расположения (например не писать \"Количество сообщений бота\", \"Количетсов сообщений оператора\", а ввести блок \"Количество сообщений\" и названия колонок \"Бота\", \"Оператора\" - как продолжение)\n",
    "\n",
    "Шапку можно создать вручную и сохранить как excel-файл (data/sup_info/header.xlsx). \n",
    "**Но остается вопрос, как правильно прикрепить к ней  данные?**\n",
    "<img src=\"../data/sup_info/images/solution.png\">"
   ]
  },
  {
   "cell_type": "markdown",
   "metadata": {},
   "source": [
    "Мы можем считать шапку из файла и даже добавить к ней данные"
   ]
  },
  {
   "cell_type": "code",
   "execution_count": 4,
   "metadata": {},
   "outputs": [],
   "source": [
    "def replace_unnamed(df, value=''):\n",
    "    \"\"\"Функция заменяет значения Unnamed в названиях колонок датафрема df на указанное значение value\"\"\"\n",
    "    unnamed = []\n",
    "    for row in df.columns:\n",
    "        for col in row:\n",
    "            if 'Unnamed:' in col:\n",
    "                unnamed.append(col)\n",
    "    df = (df.rename(columns={key: value for key in unnamed}))\n",
    "    return df"
   ]
  },
  {
   "cell_type": "code",
   "execution_count": 5,
   "metadata": {},
   "outputs": [],
   "source": [
    "header_path = '../data/sup_info/header.xlsx'\n",
    "result_path = '../data/results/reports/report.xlsx'"
   ]
  },
  {
   "cell_type": "code",
   "execution_count": 6,
   "metadata": {},
   "outputs": [
    {
     "data": {
      "text/html": [
       "<div>\n",
       "<style scoped>\n",
       "    .dataframe tbody tr th:only-of-type {\n",
       "        vertical-align: middle;\n",
       "    }\n",
       "\n",
       "    .dataframe tbody tr th {\n",
       "        vertical-align: top;\n",
       "    }\n",
       "\n",
       "    .dataframe thead tr th {\n",
       "        text-align: left;\n",
       "    }\n",
       "</style>\n",
       "<table border=\"1\" class=\"dataframe\">\n",
       "  <thead>\n",
       "    <tr>\n",
       "      <th></th>\n",
       "      <th>Дата</th>\n",
       "      <th>ID диалога</th>\n",
       "      <th colspan=\"4\" halign=\"left\">Общая характеристика</th>\n",
       "      <th colspan=\"2\" halign=\"left\">Метрики времени</th>\n",
       "      <th colspan=\"4\" halign=\"left\">Количество сообщений</th>\n",
       "    </tr>\n",
       "    <tr>\n",
       "      <th></th>\n",
       "      <th></th>\n",
       "      <th></th>\n",
       "      <th>Участини диалога</th>\n",
       "      <th>Тема</th>\n",
       "      <th>Оценка</th>\n",
       "      <th>Имя оператора</th>\n",
       "      <th>Общая длительность</th>\n",
       "      <th>Время реакции оператора</th>\n",
       "      <th>Всего</th>\n",
       "      <th>Клиента</th>\n",
       "      <th>Бота</th>\n",
       "      <th>Оператора</th>\n",
       "    </tr>\n",
       "  </thead>\n",
       "  <tbody>\n",
       "  </tbody>\n",
       "</table>\n",
       "</div>"
      ],
      "text/plain": [
       "Empty DataFrame\n",
       "Columns: [(Дата, ), (ID диалога, ), (Общая характеристика, Участини диалога), (Общая характеристика, Тема), (Общая характеристика, Оценка), (Общая характеристика, Имя оператора), (Метрики времени , Общая длительность), (Метрики времени , Время реакции оператора), (Количество сообщений, Всего), (Количество сообщений, Клиента), (Количество сообщений, Бота), (Количество сообщений, Оператора)]\n",
       "Index: []"
      ]
     },
     "execution_count": 6,
     "metadata": {},
     "output_type": "execute_result"
    }
   ],
   "source": [
    "header = pd.read_excel(header_path, header=[0,1])\n",
    "header = replace_unnamed(header, value='') #\n",
    "header.head()"
   ]
  },
  {
   "cell_type": "markdown",
   "metadata": {},
   "source": [
    "Однако сохранить готовый отчет в созданом нами формате уже не так легко. Я так и не смог найти простого способа сделать это."
   ]
  },
  {
   "cell_type": "markdown",
   "metadata": {},
   "source": [
    "Было бы здорово, если бы мы могли просто **добавить наши данные к шапке снизу и сохранить результат**. Как выяснилось, сделать эту операцию довольно легко"
   ]
  },
  {
   "cell_type": "markdown",
   "metadata": {},
   "source": [
    "Для этого скопируем файл с шапкой и поместим его в папку reports, при этом изменим название на report.xlsx"
   ]
  },
  {
   "cell_type": "code",
   "execution_count": 51,
   "metadata": {},
   "outputs": [],
   "source": [
    "shutil.copyfile(header_path, result_path);"
   ]
  },
  {
   "cell_type": "markdown",
   "metadata": {},
   "source": [
    "### Openpyxl\n",
    "\n",
    "Пакет для работы с excel-файлами (и не только). С его помощью можно осуществить тонкую настройку представления данных в excel: настроить ширину колонок, добавить на них фильтры и группировки."
   ]
  },
  {
   "cell_type": "code",
   "execution_count": 52,
   "metadata": {},
   "outputs": [],
   "source": [
    "from openpyxl import load_workbook\n",
    "from openpyxl.utils import get_column_letter\n",
    "from openpyxl import Workbook"
   ]
  },
  {
   "cell_type": "code",
   "execution_count": 53,
   "metadata": {},
   "outputs": [],
   "source": [
    "sheet_name = 'header'\n",
    "\n",
    "book = load_workbook(result_path) # добавить ссылку на документацию\n",
    "sheet = book[sheet_name] # добавить ссылку на документацию\n",
    "\n",
    "# Здесь важна последовательность - если создать объект writer первым, то он изменит формат файла и объекты book и sheet не смогут создасться\n",
    "writer = pd.ExcelWriter(result_path, engine='openpyxl') # именно этот объект считывает и сохраняет наши excel-файлы\n"
   ]
  },
  {
   "cell_type": "markdown",
   "metadata": {},
   "source": [
    "#### Изменить название листа"
   ]
  },
  {
   "cell_type": "code",
   "execution_count": 54,
   "metadata": {},
   "outputs": [
    {
     "name": "stdout",
     "output_type": "stream",
     "text": [
      "Старое название листа: ['header']\n",
      "Новое название листа: ['report']\n"
     ]
    }
   ],
   "source": [
    "print(f'Старое название листа: {book.sheetnames}') # book.sheetnames - получить список листов в файле\n",
    "sheet.title = 'report'\n",
    "sheet_name = 'report'\n",
    "print(f'Новое название листа: {book.sheetnames}')"
   ]
  },
  {
   "cell_type": "markdown",
   "metadata": {},
   "source": [
    "## Форматирование отчета\n",
    "\n",
    "Прежде чем сохранить наши данные, вначале отформатируем их нужным нам образом. Этот процесс можно условно разделить на два этапа:\n",
    "\n",
    "- В первом, мы работаем с объектом sheets и пользуемся инструментарием пакета openpyxl. Здесь мы задаем ширину пколонок, добавляем группировки, фильтры и прочие фишки excel-файлов.\n",
    "- Во втором, мы работаем с объектом styler из пакета pandas - задаем стилистические параметры. Ширину границ, толщину шрифта, цвет фона и т.д."
   ]
  },
  {
   "cell_type": "markdown",
   "metadata": {},
   "source": [
    "### Настройка объекта sheet"
   ]
  },
  {
   "cell_type": "markdown",
   "metadata": {},
   "source": [
    "#### Масштабируем ширину колонок\n",
    "Наши требования к ширине колонок исходят из следующих пожеланий:\n",
    "\n",
    "1) Данные в колонке должны помещаться в ней (ширина колонки в идеале должна быть больше самого длинного элемента в колонке), \n",
    "\n",
    "2) Название колонки помещается в ней (в случае с многоуровневой шапки нужно учесть длинну заголовков на каждом уровне, при этом ширина должна быть немного больше названия - возьмем 5 пикселей)\n",
    "\n",
    "3) Колонки должны помещатся в экране, значит их ширина не должна превышать 80 пикселей"
   ]
  },
  {
   "cell_type": "code",
   "execution_count": 55,
   "metadata": {},
   "outputs": [
    {
     "data": {
      "text/plain": [
       "20"
      ]
     },
     "execution_count": 55,
     "metadata": {},
     "output_type": "execute_result"
    }
   ],
   "source": [
    " max([len(el) for el in header_col])"
   ]
  },
  {
   "cell_type": "code",
   "execution_count": 56,
   "metadata": {},
   "outputs": [
    {
     "data": {
      "text/plain": [
       "{'date': 15,\n",
       " 'id': 15,\n",
       " 'participants': 25,\n",
       " 'theme': 25,\n",
       " 'rate': 25,\n",
       " 'oper_name': 25,\n",
       " 'duration': 23,\n",
       " 'oper_wait_time': 28,\n",
       " 'all_mes_count': 25,\n",
       " 'cust_mes_count': 25,\n",
       " 'bot_mes_count': 25,\n",
       " 'oper_mes_count': 25}"
      ]
     },
     "execution_count": 56,
     "metadata": {},
     "output_type": "execute_result"
    }
   ],
   "source": [
    "width_limit = 80\n",
    "additional_width = 5 \n",
    "\n",
    "widths = dict()\n",
    "\n",
    "for ex_col, header_col in zip(example.columns, header.columns):\n",
    "    series = example[ex_col]\n",
    "\n",
    "    col_width = max(\n",
    "        series.astype(str).map(len).max() + additional_width, # саммый длинный элемент в колонке\n",
    "        max([len(el) for el in header_col]) + additional_width # саммая длинная запись в названии колонки. \n",
    "        # Например в ('Количество сообщений', 'Оператора'), самой длинной выбереться 'Количество сообщений' (20 символов) \n",
    "    )\n",
    "\n",
    "    widths[ex_col] = min([col_width, width_limit])\n",
    "widths"
   ]
  },
  {
   "cell_type": "code",
   "execution_count": 57,
   "metadata": {},
   "outputs": [],
   "source": [
    "# Выставляем ширину каждой колонки. Здесь используем функцию get_column_letter, которая принимает на вход номер колонки (начиная с единицы) и возвращает ее буквенное обозначение\n",
    "for col, col_number in zip(widths, range(1, len(widths)+1)):\n",
    "    sheet.column_dimensions[get_column_letter(col_number)].width = widths[col]"
   ]
  },
  {
   "cell_type": "markdown",
   "metadata": {},
   "source": [
    "### Группируем колонки\n",
    "Мы хотим сгруппировать колонки блока \"Количество сообщений\", чтобы их можно было свернуть\n",
    "\n",
    "<img src=\"../data/sup_info/images/group.png\">\n",
    "<img src=\"../data/sup_info/images/group_hidden.png\">"
   ]
  },
  {
   "cell_type": "code",
   "execution_count": 58,
   "metadata": {},
   "outputs": [
    {
     "name": "stdout",
     "output_type": "stream",
     "text": [
      "['I', 'J', 'K', 'L']\n"
     ]
    }
   ],
   "source": [
    "# Определяем колоки, которые относятся к блоку \"Количество сообщений\"\n",
    "group = [\n",
    "    get_column_letter(col_number) for col, col_number in zip(header.columns, range(1, len(header.columns)+1)) \n",
    "    if 'Количество сообщений' in col\n",
    "]\n",
    "print(group)\n"
   ]
  },
  {
   "cell_type": "code",
   "execution_count": 59,
   "metadata": {},
   "outputs": [],
   "source": [
    "# Добавляем группировку на эти колонки (передаем первое и последнее значение из списка). Флаг hidden=True сформачивает группу как на картинке выше\n",
    "sheet.column_dimensions.group(group[1],group[-1], hidden=True)"
   ]
  },
  {
   "cell_type": "markdown",
   "metadata": {},
   "source": [
    "### Добавляем фильтр\n",
    "\n",
    "Допустим наш клиент захочит воспользоваться фильтрами excel. В случае многоуровневых шапок возникает вопрос, на какую строку нацепить фильтрацию, чтобы все работало правильно? Ответ - на последнюю, однако до этого еще нужно догадаться. Чтобы избавить клиента от этих затруднений, лучше добавить фильтрацию еще на этапе программирования  "
   ]
  },
  {
   "cell_type": "code",
   "execution_count": 60,
   "metadata": {},
   "outputs": [
    {
     "name": "stdout",
     "output_type": "stream",
     "text": [
      "A2:L2\n"
     ]
    }
   ],
   "source": [
    "# Определяем номер последней строки в header-е\n",
    "header_depth = len(header.columns[0])\n",
    "# Определяем номера колонок, на которые добавить фильтр (в нашем случае это все колонки)\n",
    "cols_numbers = range(1, len(header.columns)+1)\n",
    "\n",
    "# Формируем секстовый промежуток, на который добавиться фильтр\n",
    "filter_span = f\"{get_column_letter(cols_numbers[0])}{header_depth}:{get_column_letter(cols_numbers[-1])}{header_depth}\"\n",
    "print(filter_span)"
   ]
  },
  {
   "cell_type": "code",
   "execution_count": 61,
   "metadata": {},
   "outputs": [],
   "source": [
    "# Добавляем настройку фильтра\n",
    "sheet.auto_filter.ref = filter_span"
   ]
  },
  {
   "cell_type": "markdown",
   "metadata": {},
   "source": [
    "### Настраиваем стиль таблицы\n",
    "\n",
    "Для настройки вида таблицы используется объекта pandas-а **styler**.\n",
    "Мы можем настраивать стиль каждой строки или столбца в таблице. При этом стиль может включать в себя сразу несколько атрибутов стиля(толщина границ, цвет фона и шрифта, выделение текста).\n",
    "В таких случаях, удобно создать словарь, где ключом будет идентификатор строки, а значением - набор атрибутов, которые мы будем применять к этой строке.  "
   ]
  },
  {
   "cell_type": "code",
   "execution_count": 62,
   "metadata": {},
   "outputs": [],
   "source": [
    "# Создаем словарь, где для каждого идентификатора строки (пока что) проставлена пустая строка, тоесть отсутствие каких либо параметров.\n",
    "style = {ind: '' for ind in example.index}"
   ]
  },
  {
   "cell_type": "markdown",
   "metadata": {},
   "source": [
    "#### Выделить плохо-оцененные диалоги (rate == 1) красным цветом"
   ]
  },
  {
   "cell_type": "code",
   "execution_count": 63,
   "metadata": {},
   "outputs": [],
   "source": [
    "# Выделяем интересующие нас идентификаторы строк\n",
    "bad_rated_rows = example[example['rate'] == 1].index\n",
    "\n",
    "# Определяем атрибут, который мы будем применять к найденым строкам\n",
    "attr = 'background-color: red'\n",
    "\n",
    "# Добавляем к стилю каждого идентификатора атрибут (атрибуты добавляются через точку с запятой)\n",
    "for ind in bad_rated_rows:\n",
    "    style[ind] += f'; {attr}'"
   ]
  },
  {
   "cell_type": "markdown",
   "metadata": {},
   "source": [
    "#### Добавить горизонтальные полосы, разделяющие диалоги за разные даты"
   ]
  },
  {
   "cell_type": "code",
   "execution_count": 64,
   "metadata": {},
   "outputs": [],
   "source": [
    "last_dates_rows = example[\n",
    "    example['id'].isin(example.groupby('date', as_index=False).last().id.unique())\n",
    "].index\n",
    "\n",
    "attr = 'border-bottom-style: solid; border-bottom-width: 10px'\n",
    "\n",
    "for ind in last_dates_rows:\n",
    "    style[ind] += f'; {attr}'"
   ]
  },
  {
   "cell_type": "markdown",
   "metadata": {},
   "source": [
    "#### Выделить жирным имя оператора, у которого больше всего положительных оценок (5-ок)"
   ]
  },
  {
   "cell_type": "code",
   "execution_count": 65,
   "metadata": {},
   "outputs": [],
   "source": [
    "best_operator_rows = example[\n",
    "    example['oper_name'] == example[example['rate'] == 5]['oper_name'].value_counts().index[0]\n",
    "].index\n",
    "attr = 'font-weight: bold'\n",
    "\n",
    "for ind in best_operator_rows:\n",
    "    style[ind] += f'; {attr}'"
   ]
  },
  {
   "cell_type": "markdown",
   "metadata": {},
   "source": [
    "#### Для каждой строки нашей таблицы применяем соответствующей ей стиль из словаря\n",
    "\n",
    "Для большенства строк стиль набор атрибутов остался равен пустой строке и они не будут выделены."
   ]
  },
  {
   "cell_type": "code",
   "execution_count": 66,
   "metadata": {},
   "outputs": [],
   "source": [
    "example_styled = example.style.apply(lambda row: [style[row.name]]*len(row), axis=1)"
   ]
  },
  {
   "cell_type": "markdown",
   "metadata": {},
   "source": [
    "### Сохраняем отформатированный excel-файл"
   ]
  },
  {
   "cell_type": "code",
   "execution_count": 67,
   "metadata": {},
   "outputs": [],
   "source": [
    "# По неясной мне причине именно такая последовательность комманд правильно применяет формат к файлу\n",
    "writer.book = book\n",
    "writer.sheets = dict((ws.title, ws) for ws in writer.book.worksheets)\n",
    "writer.sheet = sheet\n",
    "\n",
    "# Сохраняем отформатированный файл вместе со стилизованной таблицей\n",
    "example_styled.to_excel(writer,\n",
    "                 sheet_name=sheet_name, \n",
    "                 index=False, \n",
    "                 header=False, \n",
    "                 startrow=len(header.columns[0]))\n",
    "writer.close()"
   ]
  },
  {
   "cell_type": "markdown",
   "metadata": {},
   "source": [
    "### В итоге, мы получаем отчет желаемого вида:\n",
    "<img src=\"../data/sup_info/images/final.png\">\n",
    "\n",
    "**Отформатированный полностью в автоматическом режиме**"
   ]
  }
 ],
 "metadata": {
  "kernelspec": {
   "display_name": "venv",
   "language": "python",
   "name": "venv"
  },
  "language_info": {
   "codemirror_mode": {
    "name": "ipython",
    "version": 3
   },
   "file_extension": ".py",
   "mimetype": "text/x-python",
   "name": "python",
   "nbconvert_exporter": "python",
   "pygments_lexer": "ipython3",
   "version": "3.7.3"
  },
  "toc": {
   "base_numbering": 1,
   "nav_menu": {},
   "number_sections": true,
   "sideBar": true,
   "skip_h1_title": false,
   "title_cell": "Table of Contents",
   "title_sidebar": "Contents",
   "toc_cell": false,
   "toc_position": {},
   "toc_section_display": true,
   "toc_window_display": false
  }
 },
 "nbformat": 4,
 "nbformat_minor": 4
}
