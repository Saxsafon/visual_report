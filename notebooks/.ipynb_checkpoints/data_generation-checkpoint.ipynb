{
 "cells": [
  {
   "cell_type": "code",
   "execution_count": 2,
   "metadata": {},
   "outputs": [],
   "source": [
    "import pandas as pd\n",
    "import numpy as np\n",
    "import random"
   ]
  },
  {
   "cell_type": "markdown",
   "metadata": {},
   "source": [
    "## Допустим\n",
    "###  У нас есть некий продукт с чатом поддержки. Клиенты пишут в него, чтобы найти решение возникающим проблемам. На вопросы клиентов отвечают операторы. Чтобы облегчить нагрузку на операторов мы подключили чатбота, который в состоянии ответить на самые распростараненные вопросы."
   ]
  },
  {
   "cell_type": "markdown",
   "metadata": {},
   "source": [
    "### Таким образом чат поддержки генерирует поток данных, которые сохраняются в нашей базе данных в виде таблиц. Пусть одна из них имеет следующий формат:\n",
    "\n",
    "- id - уникальный идентификатор диалога\n",
    "- date - дата поступления диалога (в формате dd-mm-yyyy)\n",
    "- participants - участники диалога ('CUST_BOT', 'CUST_BOT_OPER', 'CUST_OPER')\n",
    "- theme - тема диалога; последний вопрос заданный клиентом ('THEME1', 'THEME2', 'THEME3')\n",
    "- rate - оценка диалога клиентом (по 5-ти бальной шкале)\n",
    "- duration - длительность диалога (в секундах)\n",
    "- oper_wait_time - время, которое потребовалось оператору, чтобы подключится к клиенту; время ожидания оператора (в секундах)\n",
    "- all_mes_count - общее количество сообщений в диалоге (в штуках)\n",
    "- cust_mes_count - количество сообщений клиента в диалоге (в штуках)\n",
    "- bot_mes_count - количество сообщений бота в диалоге (в штуках)\n",
    "- oper_mes_count - количество сообщений оператора в диалоге (в штуках)\n",
    "- oper_name - имя оператора, включившегося в разговор (None, 'Игорь', 'Полнина', 'Гоша','Николай', 'Владимир', 'Маша', 'Света', 'Андрей')"
   ]
  },
  {
   "cell_type": "markdown",
   "metadata": {},
   "source": [
    "## Генерация синтетичестких данных для презентации"
   ]
  },
  {
   "cell_type": "markdown",
   "metadata": {},
   "source": [
    "### Выберем размер нашей выборки"
   ]
  },
  {
   "cell_type": "code",
   "execution_count": 3,
   "metadata": {},
   "outputs": [],
   "source": [
    "sample_size = 30000"
   ]
  },
  {
   "cell_type": "markdown",
   "metadata": {},
   "source": [
    "### Теперь сгенерируем датасет в указанном формате, обладающий следующими особенностями:"
   ]
  },
  {
   "cell_type": "markdown",
   "metadata": {},
   "source": [
    "###### id:\n",
    " - значения id представлены в виде десятизначной строки чисел"
   ]
  },
  {
   "cell_type": "code",
   "execution_count": 4,
   "metadata": {},
   "outputs": [],
   "source": [
    "ids = ['{:010}'.format(i) for i in range(sample_size)]"
   ]
  },
  {
   "cell_type": "markdown",
   "metadata": {},
   "source": [
    "###### date: \n",
    " - Пусть количество диалогов в выходные будет в целом на 25% больше чем в будние дни "
   ]
  },
  {
   "cell_type": "code",
   "execution_count": null,
   "metadata": {},
   "outputs": [],
   "source": [
    "def get_dates(start, end, date_format=None):\n",
    "    \"\"\"\n",
    "    date_format: \"%d/%m/%Y\", \"%d.%m.%Y\", \"%Y-%m-%d\", \"%Y_%m_%d\"\n",
    "    \"\"\"\n",
    "    sdate = np.datetime64(start)\n",
    "    edate = np.datetime64(end)\n",
    "    delta = edate - sdate\n",
    "    \n",
    "    if date_format:\n",
    "        dates = [pd.to_datetime(sdate + i).strftime(date_format) for i in range(delta.astype(int) + 1)]\n",
    "    else:\n",
    "        dates = [pd.to_datetime(sdate + i) for i in range(delta.astype(int) + 1)]\n",
    "    \n",
    "    return dates"
   ]
  },
  {
   "cell_type": "code",
   "execution_count": 5,
   "metadata": {},
   "outputs": [
    {
     "ename": "NameError",
     "evalue": "name 'get_dates' is not defined",
     "output_type": "error",
     "traceback": [
      "\u001b[1;31m---------------------------------------------------------------------------\u001b[0m",
      "\u001b[1;31mNameError\u001b[0m                                 Traceback (most recent call last)",
      "\u001b[1;32m~\\AppData\\Local\\Temp/ipykernel_14188/1297185394.py\u001b[0m in \u001b[0;36m<module>\u001b[1;34m\u001b[0m\n\u001b[1;32m----> 1\u001b[1;33m \u001b[0munique_dates\u001b[0m \u001b[1;33m=\u001b[0m \u001b[0mget_dates\u001b[0m\u001b[1;33m(\u001b[0m\u001b[1;34m'2021-07-01'\u001b[0m\u001b[1;33m,\u001b[0m \u001b[1;34m'2021-07-30'\u001b[0m\u001b[1;33m)\u001b[0m\u001b[1;33m\u001b[0m\u001b[1;33m\u001b[0m\u001b[0m\n\u001b[0m\u001b[0;32m      2\u001b[0m \u001b[0mweekends\u001b[0m \u001b[1;33m=\u001b[0m \u001b[1;33m[\u001b[0m\u001b[0mday\u001b[0m \u001b[1;32mfor\u001b[0m \u001b[0mday\u001b[0m \u001b[1;32min\u001b[0m \u001b[0munique_dates\u001b[0m \u001b[1;32mif\u001b[0m \u001b[0mday\u001b[0m\u001b[1;33m.\u001b[0m\u001b[0mweekday\u001b[0m\u001b[1;33m(\u001b[0m\u001b[1;33m)\u001b[0m \u001b[1;32min\u001b[0m \u001b[1;33m[\u001b[0m\u001b[1;36m5\u001b[0m\u001b[1;33m,\u001b[0m\u001b[1;36m6\u001b[0m\u001b[1;33m]\u001b[0m\u001b[1;33m]\u001b[0m\u001b[1;33m\u001b[0m\u001b[1;33m\u001b[0m\u001b[0m\n\u001b[0;32m      3\u001b[0m \u001b[0mweekdays\u001b[0m \u001b[1;33m=\u001b[0m \u001b[1;33m[\u001b[0m\u001b[0mday\u001b[0m \u001b[1;32mfor\u001b[0m \u001b[0mday\u001b[0m \u001b[1;32min\u001b[0m \u001b[0munique_dates\u001b[0m \u001b[1;32mif\u001b[0m \u001b[0mday\u001b[0m\u001b[1;33m.\u001b[0m\u001b[0mweekday\u001b[0m\u001b[1;33m(\u001b[0m\u001b[1;33m)\u001b[0m \u001b[1;32mnot\u001b[0m \u001b[1;32min\u001b[0m \u001b[1;33m[\u001b[0m\u001b[1;36m5\u001b[0m\u001b[1;33m,\u001b[0m\u001b[1;36m6\u001b[0m\u001b[1;33m]\u001b[0m\u001b[1;33m]\u001b[0m\u001b[1;33m\u001b[0m\u001b[1;33m\u001b[0m\u001b[0m\n\u001b[0;32m      4\u001b[0m \u001b[1;33m\u001b[0m\u001b[0m\n\u001b[0;32m      5\u001b[0m dates = sorted([*np.random.choice(weekends, int(sample_size*0.625), replace=True), \n",
      "\u001b[1;31mNameError\u001b[0m: name 'get_dates' is not defined"
     ]
    }
   ],
   "source": [
    "unique_dates = get_dates('2021-07-01', '2021-07-30')\n",
    "weekends = [day for day in unique_dates if day.weekday() in [5,6]]\n",
    "weekdays = [day for day in unique_dates if day.weekday() not in [5,6]]\n",
    "\n",
    "dates = sorted([*np.random.choice(weekends, int(sample_size*0.625), replace=True), \n",
    "                *np.random.choice(weekdays, int(sample_size*0.375), replace=True)])"
   ]
  },
  {
   "cell_type": "markdown",
   "metadata": {},
   "source": [
    "###### participants: \n",
    "- Пусть значения колонки participants распределяются в следующем соотношении: CUST_BOT - 60%, CUST_BOT_OPER - 30%, CUST_OPER - 10%"
   ]
  },
  {
   "cell_type": "code",
   "execution_count": null,
   "metadata": {},
   "outputs": [],
   "source": [
    "participants = [\n",
    "    *['CUST_BOT']*int(sample_size*0.6), \n",
    "    *['CUST_BOT_OPER']*int(sample_size*0.3), \n",
    "    *['CUST_OPER']*int(sample_size*0.1)\n",
    "]\n",
    "random.shuffle(participants)"
   ]
  },
  {
   "cell_type": "markdown",
   "metadata": {},
   "source": [
    "###### oper_name\n",
    " - Бот закрывает 60% диалогов (У 60% диалогов oper_name == None)\n",
    " - Диалоги распределены между операторами случайным образом"
   ]
  },
  {
   "cell_type": "code",
   "execution_count": null,
   "metadata": {},
   "outputs": [],
   "source": [
    "unique_oper_names = ['Игорь', 'Полина', 'Гоша','Николай', 'Владимир', 'Маша', 'Света', 'Андрей']\n",
    "oper_names = [None if part == 'CUST_BOT' else np.random.choice(unique_oper_names, 1, replace=True)[0] for part in participants]"
   ]
  },
  {
   "cell_type": "markdown",
   "metadata": {},
   "source": [
    "###### theme \n",
    " - Тематики распределены между диалогами случайным образом"
   ]
  },
  {
   "cell_type": "code",
   "execution_count": null,
   "metadata": {},
   "outputs": [],
   "source": [
    "unique_themes = ['THEME1', 'THEME2', 'THEME3']\n",
    "themes = list(np.random.choice(themes, sample_size, replace=True))"
   ]
  },
  {
   "cell_type": "markdown",
   "metadata": {},
   "source": [
    "###### rates: \n",
    "- Пусть только 6% от всех диалогов были оценены клиентами\n",
    "- Пусть клиенты оценивают диалоги в следующей пропорции: '1' - 30%, '2' - 1%, '3' - 2%, '4' - 2%, '5' - 65% \n",
    "- Пусть диалоги с тематикой THEME3 оцениваются 1-ей на 20% чаще (и 5-кой на 20% реже)\n",
    "- Пусть диалоги в которых участвовал оператор Андрей оцениваются 1-ей на 10% чаще (и 5-кой на 10% реже)"
   ]
  },
  {
   "cell_type": "code",
   "execution_count": null,
   "metadata": {},
   "outputs": [],
   "source": [
    "rates = []\n",
    "rate_probability = 0.06\n",
    "probability_dict = {None: 1-rate_probability, \n",
    "                    '1': rate_probability*0.3, \n",
    "                    '2': rate_probability*0.01, \n",
    "                    '3': rate_probability*0.02, \n",
    "                    '4': rate_probability*0.02, \n",
    "                    '5': rate_probability*0.65}\n",
    "\n",
    "for theme, name in zip(themes, oper_names):\n",
    "    d = probability_dict.copy()\n",
    "    \n",
    "    if theme == 'THEME3':\n",
    "        d['1'] += rate_probability*0.2\n",
    "        d['5'] -= rate_probability*0.2\n",
    "    if name == 'Андрей':\n",
    "        d['1'] += rate_probability*0.1\n",
    "        d['5'] -= rate_probability*0.1\n",
    "    \n",
    "    rates.append(np.random.choice(list(d.keys()), 1, p=list(d.values()))[0])\n"
   ]
  },
  {
   "cell_type": "markdown",
   "metadata": {},
   "source": [
    "###### oper_wait_time:\n",
    " - Пусть минимальное время реакции оператора - 3 секунды, максимальная - 10 минут\n",
    " - Оператор Андрей включается в диалог на 5 минут позже чем остальные операторы"
   ]
  },
  {
   "cell_type": "code",
   "execution_count": 6,
   "metadata": {},
   "outputs": [
    {
     "ename": "NameError",
     "evalue": "name 'participants' is not defined",
     "output_type": "error",
     "traceback": [
      "\u001b[1;31m---------------------------------------------------------------------------\u001b[0m",
      "\u001b[1;31mNameError\u001b[0m                                 Traceback (most recent call last)",
      "\u001b[1;32m~\\AppData\\Local\\Temp/ipykernel_14188/3492096351.py\u001b[0m in \u001b[0;36m<module>\u001b[1;34m\u001b[0m\n\u001b[0;32m      4\u001b[0m \u001b[0moper_wait_times\u001b[0m \u001b[1;33m=\u001b[0m \u001b[1;33m[\u001b[0m\u001b[1;33m]\u001b[0m\u001b[1;33m\u001b[0m\u001b[1;33m\u001b[0m\u001b[0m\n\u001b[0;32m      5\u001b[0m \u001b[1;33m\u001b[0m\u001b[0m\n\u001b[1;32m----> 6\u001b[1;33m \u001b[1;32mfor\u001b[0m \u001b[0mpart\u001b[0m\u001b[1;33m,\u001b[0m \u001b[0moper_name\u001b[0m \u001b[1;32min\u001b[0m \u001b[0mzip\u001b[0m\u001b[1;33m(\u001b[0m\u001b[0mparticipants\u001b[0m\u001b[1;33m,\u001b[0m \u001b[0moper_names\u001b[0m\u001b[1;33m)\u001b[0m\u001b[1;33m:\u001b[0m\u001b[1;33m\u001b[0m\u001b[1;33m\u001b[0m\u001b[0m\n\u001b[0m\u001b[0;32m      7\u001b[0m     \u001b[1;32mif\u001b[0m \u001b[0mpart\u001b[0m \u001b[1;32min\u001b[0m \u001b[1;33m[\u001b[0m\u001b[1;34m'CUST_BOT_OPER'\u001b[0m\u001b[1;33m,\u001b[0m \u001b[1;34m'CUST_OPER'\u001b[0m\u001b[1;33m]\u001b[0m\u001b[1;33m:\u001b[0m\u001b[1;33m\u001b[0m\u001b[1;33m\u001b[0m\u001b[0m\n\u001b[0;32m      8\u001b[0m         \u001b[1;32mif\u001b[0m \u001b[0moper_name\u001b[0m \u001b[1;33m==\u001b[0m \u001b[1;34m'Андрей'\u001b[0m\u001b[1;33m:\u001b[0m\u001b[1;33m\u001b[0m\u001b[1;33m\u001b[0m\u001b[0m\n",
      "\u001b[1;31mNameError\u001b[0m: name 'participants' is not defined"
     ]
    }
   ],
   "source": [
    "min_owt = 3\n",
    "max_owt = 10*60\n",
    "\n",
    "oper_wait_times = []\n",
    "\n",
    "for part, oper_name in zip(participants, oper_names):\n",
    "    if part in ['CUST_BOT_OPER', 'CUST_OPER']:\n",
    "        if oper_name == 'Андрей':\n",
    "            oper_wait_times.append(np.random.choice(range(min_owt+5*60+1, max_owt+5*60+1), 1)[0])\n",
    "        else:\n",
    "            oper_wait_times.append(np.random.choice(range(min_owt, max_owt), 1)[0])\n",
    "    else:\n",
    "        oper_wait_times.append(0)"
   ]
  },
  {
   "cell_type": "markdown",
   "metadata": {},
   "source": [
    "###### duration:\n",
    "- Длительность диалога не может быть меньше времени реакции оператора\n",
    "- Пусть длительность диалога без учета времени ожидания оператора лежит в диапазоне от 10 секунд до 15 минут"
   ]
  },
  {
   "cell_type": "code",
   "execution_count": 7,
   "metadata": {},
   "outputs": [],
   "source": [
    "min_addit_dur = 10\n",
    "max_addit_dur = 15*60\n",
    "\n",
    "durations = []\n",
    "\n",
    "for wait_time in oper_wait_times:\n",
    "    durations.append(np.random.choice(range(wait_time + min_addit_dur+1, wait_time + max_addit_dur+1), 1)[0])"
   ]
  },
  {
   "cell_type": "markdown",
   "metadata": {},
   "source": [
    "###### cust_mes_count:\n",
    " - Пусть минимальное количество сообщений клиента - 1, максимальное - 25\n",
    " - Если в диалоге участвовал и бот и оператор (participants == 'CUST_BOT_OPER'), то количество сообщений клиента должно быть больше 1"
   ]
  },
  {
   "cell_type": "code",
   "execution_count": 267,
   "metadata": {},
   "outputs": [],
   "source": [
    "min_cmc = 1\n",
    "max_cmc = 25\n",
    "\n",
    "cust_mes_counts = []\n",
    "\n",
    "for part in participants:\n",
    "    if part == 'CUST_BOT_OPER':\n",
    "        if min_cmc <= 1:\n",
    "            cust_mes_counts.append(np.random.choice(range(2, max_cmc), 1)[0])\n",
    "    else:\n",
    "        cust_mes_counts.append(np.random.choice(range(min_cmc, max_cmc), 1)[0])"
   ]
  },
  {
   "cell_type": "markdown",
   "metadata": {},
   "source": [
    "###### bot_mes_count:\n",
    " - Пусть минимальное количество сообщений бота - 1\n",
    " - Если бот не участвовал в диалоге (participants == 'CUST_OPER'), то количество сообщений бота равно нулю (bot_mes_count == 0)\n",
    " - Если в диалоге участвовал только бот и клиент (participants == 'CUST_BOT'), то количество сообщений бота равно количеству сообщений клиента\n",
    " - Если в диалоге участвовал клиент, бот и оператор, (participants == 'CUST_BOT_OPER'), то количесво сообщений бота строго меньше количества сообщений клиента\n",
    " "
   ]
  },
  {
   "cell_type": "code",
   "execution_count": 268,
   "metadata": {},
   "outputs": [],
   "source": [
    "min_bmc = 1\n",
    "bot_mes_counts = []\n",
    "\n",
    "for cmc, part in zip(cust_mes_counts, participants):\n",
    "    if part == 'CUST_OPER':\n",
    "        bot_mes_counts.append(0)\n",
    "    elif part == 'CUST_BOT':\n",
    "        bot_mes_counts.append(cmc)\n",
    "    elif part == 'CUST_BOT_OPER':\n",
    "        bot_mes_counts.append(np.random.choice(range(min_bmc, cmc), 1)[0])\n"
   ]
  },
  {
   "cell_type": "markdown",
   "metadata": {},
   "source": [
    "###### oper_mes_count:\n",
    " - Пусть минимальное количество сообщений клиента - 1, максимальное - 35\n",
    " - Если оператор не участвовал в диалоге (participants == 'CUST_BOT'), то количество сообщений оператора равно нулю (oper_mes_count == 0)"
   ]
  },
  {
   "cell_type": "code",
   "execution_count": 269,
   "metadata": {},
   "outputs": [],
   "source": [
    "min_omc = 1\n",
    "max_omc = 35\n",
    "\n",
    "oper_mes_counts = []\n",
    "\n",
    "for part in participants:\n",
    "    if part == 'CUST_BOT':\n",
    "        oper_mes_counts.append(0)\n",
    "    else:\n",
    "        oper_mes_counts.append(np.random.choice(range(min_omc, max_omc), 1)[0])"
   ]
  },
  {
   "cell_type": "markdown",
   "metadata": {},
   "source": [
    "###### all_mes_count:\n",
    " - Общее количество сообщений в диалоге это сумма сообщений клиента, бота и оператора"
   ]
  },
  {
   "cell_type": "code",
   "execution_count": 270,
   "metadata": {},
   "outputs": [],
   "source": [
    "all_mes_counts = [sum(x) for x in zip(cust_mes_counts, bot_mes_counts, oper_mes_counts)]"
   ]
  },
  {
   "cell_type": "markdown",
   "metadata": {},
   "source": [
    "### Формирует и сохраняем наш датасет"
   ]
  },
  {
   "cell_type": "code",
   "execution_count": 271,
   "metadata": {},
   "outputs": [
    {
     "data": {
      "text/html": [
       "<div>\n",
       "<style scoped>\n",
       "    .dataframe tbody tr th:only-of-type {\n",
       "        vertical-align: middle;\n",
       "    }\n",
       "\n",
       "    .dataframe tbody tr th {\n",
       "        vertical-align: top;\n",
       "    }\n",
       "\n",
       "    .dataframe thead th {\n",
       "        text-align: right;\n",
       "    }\n",
       "</style>\n",
       "<table border=\"1\" class=\"dataframe\">\n",
       "  <thead>\n",
       "    <tr style=\"text-align: right;\">\n",
       "      <th></th>\n",
       "      <th>date</th>\n",
       "      <th>id</th>\n",
       "      <th>participants</th>\n",
       "      <th>theme</th>\n",
       "      <th>rate</th>\n",
       "      <th>oper_name</th>\n",
       "      <th>duration</th>\n",
       "      <th>oper_wait_time</th>\n",
       "      <th>all_mes_count</th>\n",
       "      <th>cust_mes_count</th>\n",
       "      <th>bot_mes_count</th>\n",
       "      <th>oper_mes_count</th>\n",
       "    </tr>\n",
       "  </thead>\n",
       "  <tbody>\n",
       "    <tr>\n",
       "      <th>0</th>\n",
       "      <td>2021-07-01</td>\n",
       "      <td>0000000000</td>\n",
       "      <td>CUST_BOT</td>\n",
       "      <td>THEME2</td>\n",
       "      <td>None</td>\n",
       "      <td>None</td>\n",
       "      <td>327</td>\n",
       "      <td>0</td>\n",
       "      <td>32</td>\n",
       "      <td>16</td>\n",
       "      <td>16</td>\n",
       "      <td>0</td>\n",
       "    </tr>\n",
       "    <tr>\n",
       "      <th>1</th>\n",
       "      <td>2021-07-01</td>\n",
       "      <td>0000000001</td>\n",
       "      <td>CUST_BOT</td>\n",
       "      <td>THEME2</td>\n",
       "      <td>None</td>\n",
       "      <td>None</td>\n",
       "      <td>241</td>\n",
       "      <td>0</td>\n",
       "      <td>8</td>\n",
       "      <td>4</td>\n",
       "      <td>4</td>\n",
       "      <td>0</td>\n",
       "    </tr>\n",
       "    <tr>\n",
       "      <th>2</th>\n",
       "      <td>2021-07-01</td>\n",
       "      <td>0000000002</td>\n",
       "      <td>CUST_BOT</td>\n",
       "      <td>THEME1</td>\n",
       "      <td>None</td>\n",
       "      <td>None</td>\n",
       "      <td>802</td>\n",
       "      <td>0</td>\n",
       "      <td>48</td>\n",
       "      <td>24</td>\n",
       "      <td>24</td>\n",
       "      <td>0</td>\n",
       "    </tr>\n",
       "    <tr>\n",
       "      <th>3</th>\n",
       "      <td>2021-07-01</td>\n",
       "      <td>0000000003</td>\n",
       "      <td>CUST_BOT</td>\n",
       "      <td>THEME3</td>\n",
       "      <td>None</td>\n",
       "      <td>None</td>\n",
       "      <td>440</td>\n",
       "      <td>0</td>\n",
       "      <td>24</td>\n",
       "      <td>12</td>\n",
       "      <td>12</td>\n",
       "      <td>0</td>\n",
       "    </tr>\n",
       "    <tr>\n",
       "      <th>4</th>\n",
       "      <td>2021-07-01</td>\n",
       "      <td>0000000004</td>\n",
       "      <td>CUST_BOT_OPER</td>\n",
       "      <td>THEME3</td>\n",
       "      <td>None</td>\n",
       "      <td>Андрей</td>\n",
       "      <td>1249</td>\n",
       "      <td>816</td>\n",
       "      <td>38</td>\n",
       "      <td>16</td>\n",
       "      <td>5</td>\n",
       "      <td>17</td>\n",
       "    </tr>\n",
       "  </tbody>\n",
       "</table>\n",
       "</div>"
      ],
      "text/plain": [
       "        date          id   participants   theme  rate oper_name  duration  \\\n",
       "0 2021-07-01  0000000000       CUST_BOT  THEME2  None      None       327   \n",
       "1 2021-07-01  0000000001       CUST_BOT  THEME2  None      None       241   \n",
       "2 2021-07-01  0000000002       CUST_BOT  THEME1  None      None       802   \n",
       "3 2021-07-01  0000000003       CUST_BOT  THEME3  None      None       440   \n",
       "4 2021-07-01  0000000004  CUST_BOT_OPER  THEME3  None    Андрей      1249   \n",
       "\n",
       "   oper_wait_time  all_mes_count  cust_mes_count  bot_mes_count  \\\n",
       "0               0             32              16             16   \n",
       "1               0              8               4              4   \n",
       "2               0             48              24             24   \n",
       "3               0             24              12             12   \n",
       "4             816             38              16              5   \n",
       "\n",
       "   oper_mes_count  \n",
       "0               0  \n",
       "1               0  \n",
       "2               0  \n",
       "3               0  \n",
       "4              17  "
      ]
     },
     "execution_count": 271,
     "metadata": {},
     "output_type": "execute_result"
    }
   ],
   "source": [
    "df = pd.DataFrame({\n",
    "    'date': dates,\n",
    "    'id': ids,\n",
    "    'participants': participants, \n",
    "    'theme': themes,\n",
    "    'rate': rates, \n",
    "    'oper_name': oper_names,\n",
    "    'duration': durations, \n",
    "    'oper_wait_time': oper_wait_times,\n",
    "    'all_mes_count': all_mes_counts, \n",
    "    'cust_mes_count': cust_mes_counts, \n",
    "    'bot_mes_count': bot_mes_counts, \n",
    "    'oper_mes_count': oper_mes_counts,\n",
    "    \n",
    "})\n",
    "\n",
    "df.head()"
   ]
  },
  {
   "cell_type": "code",
   "execution_count": 272,
   "metadata": {},
   "outputs": [],
   "source": [
    "df = df.sort_values('date')"
   ]
  },
  {
   "cell_type": "code",
   "execution_count": 273,
   "metadata": {},
   "outputs": [],
   "source": [
    "df.to_csv(\"../data/input/example.csv\", index=False)"
   ]
  },
  {
   "cell_type": "markdown",
   "metadata": {},
   "source": [
    "### В дальнейшем мы сможем выделить все эти особенности с помощью графиков графиков. "
   ]
  },
  {
   "cell_type": "code",
   "execution_count": null,
   "metadata": {},
   "outputs": [],
   "source": []
  }
 ],
 "metadata": {
  "kernelspec": {
   "display_name": "venv",
   "language": "python",
   "name": "venv"
  },
  "language_info": {
   "codemirror_mode": {
    "name": "ipython",
    "version": 3
   },
   "file_extension": ".py",
   "mimetype": "text/x-python",
   "name": "python",
   "nbconvert_exporter": "python",
   "pygments_lexer": "ipython3",
   "version": "3.9.7"
  }
 },
 "nbformat": 4,
 "nbformat_minor": 4
}
